{
 "cells": [
  {
   "cell_type": "markdown",
   "id": "64d6aba8-6ebb-4cd0-ad80-c703fb34bb3b",
   "metadata": {},
   "source": [
    "Q1/Ans1"
   ]
  },
  {
   "cell_type": "code",
   "execution_count": 5,
   "id": "8b0360b1-7f2d-4201-b321-00f4e65d19ae",
   "metadata": {},
   "outputs": [
    {
     "name": "stdin",
     "output_type": "stream",
     "text": [
      "Enter your marks here : 100\n"
     ]
    },
    {
     "name": "stdout",
     "output_type": "stream",
     "text": [
      "A\n"
     ]
    }
   ],
   "source": [
    "marks=int (input(\"Enter your marks here :\"))\n",
    "if marks >90:\n",
    "    print (\"A\")\n",
    "elif marks<=90 & marks >80:\n",
    "    print (\"B\")\n",
    "elif marks <=80 & marks >=60:\n",
    "    print (\"C\")\n",
    "else :\n",
    "    print (\"D\")\n",
    "    "
   ]
  },
  {
   "cell_type": "markdown",
   "id": "a2615d1f-96df-48ff-b941-2b0bda37e1a6",
   "metadata": {},
   "source": [
    "Q2/Ans2"
   ]
  },
  {
   "cell_type": "code",
   "execution_count": 14,
   "id": "f36192be-8674-4368-9948-7b7858e36e72",
   "metadata": {},
   "outputs": [
    {
     "name": "stdin",
     "output_type": "stream",
     "text": [
      "Please enter the cost price of bike:  80000\n"
     ]
    },
    {
     "name": "stdout",
     "output_type": "stream",
     "text": [
      "road tax to be paid in : 10 %\n"
     ]
    }
   ],
   "source": [
    "taxpay=[15,10,5]\n",
    "costprice= int (input(\"Please enter the cost price of bike: \"))\n",
    "if costprice >100000:\n",
    "    print (\"road tax to be paid in :\", taxpay[0],'%')\n",
    "elif costprice >50000 and costprice <=100000:\n",
    "    print (\"road tax to be paid in :\", taxpay[1],'%')\n",
    "else :\n",
    "    print (\"road tax to be paid in :\", taxpay[2],'%')"
   ]
  },
  {
   "cell_type": "markdown",
   "id": "416bd59d-6b96-42b2-be06-326ff539db1f",
   "metadata": {},
   "source": [
    "Q3/Ans3"
   ]
  },
  {
   "cell_type": "code",
   "execution_count": 23,
   "id": "61718d83-479c-485f-9379-05ee99c04eb7",
   "metadata": {},
   "outputs": [
    {
     "name": "stdin",
     "output_type": "stream",
     "text": [
      "please choose city :Delhi,Agrah, Jaipur:  Jaipur\n"
     ]
    },
    {
     "name": "stdout",
     "output_type": "stream",
     "text": [
      "jal mahal\n"
     ]
    }
   ],
   "source": [
    "monuments=[\"redfort\",\"taj mahal\", \"jal mahal\"]\n",
    "\n",
    "city = input(\"please choose city :Delhi,Agrah, Jaipur: \")\n",
    "city = city.lower()\n",
    "if city==\"delhi\":\n",
    "    print (monuments[0])\n",
    "elif city == \"agrah\":\n",
    "    print (monuments[1])\n",
    "elif city ==\"jaipur\":\n",
    "    print (monuments[2])\n",
    "else :\n",
    "    print(\"please choose only from given option\")"
   ]
  },
  {
   "cell_type": "markdown",
   "id": "ed492749-b768-4787-9cbe-aed88ecc5e4d",
   "metadata": {},
   "source": [
    "Q4/Ans4"
   ]
  },
  {
   "cell_type": "code",
   "execution_count": 1,
   "id": "98686f5c-978b-4fc1-812a-561542a75224",
   "metadata": {},
   "outputs": [
    {
     "name": "stdin",
     "output_type": "stream",
     "text": [
      "please enter the number : 21\n"
     ]
    },
    {
     "name": "stdout",
     "output_type": "stream",
     "text": [
      "1\n"
     ]
    }
   ],
   "source": [
    "number = int (input(\"please enter the number :\"))\n",
    "count =0\n",
    "for n in range (number):\n",
    "    if number >10:\n",
    "        number =number /3\n",
    "        count +=1\n",
    "print (count )"
   ]
  },
  {
   "cell_type": "markdown",
   "id": "2c5a7cab-0edc-4118-8547-4f3219157a3d",
   "metadata": {},
   "source": [
    "Q5/Ans5\n",
    "a while loop is used when you want to repeatedly execute a block of code as long as a certain condition is true. The basic structure of a while loop is as follows:\n",
    "where condition is a boolean expression that evaluates to either True or False.\n",
    "As long as the condition is True, the code inside the loop will be executed. Once the condition is False, the loop will terminate and the program will continue to execute the code after the loop."
   ]
  },
  {
   "cell_type": "markdown",
   "id": "b366822d-0ff2-400f-906c-32c2f8916d48",
   "metadata": {},
   "source": [
    "Q6/Ans6\n"
   ]
  },
  {
   "cell_type": "code",
   "execution_count": 3,
   "id": "d942bc71-eaeb-472d-b01a-57f8ccc5c749",
   "metadata": {},
   "outputs": [
    {
     "name": "stdout",
     "output_type": "stream",
     "text": [
      "*\n",
      "**\n",
      "***\n",
      "****\n",
      "*****\n"
     ]
    }
   ],
   "source": [
    "#pattern1\n",
    "rows = 5\n",
    "i = 1\n",
    "while i <= rows:\n",
    "    j = 1\n",
    "    while j <= i:\n",
    "        print(\"*\", end=\"\")\n",
    "        j += 1\n",
    "    print(\"\")\n",
    "    i += 1"
   ]
  },
  {
   "cell_type": "code",
   "execution_count": 6,
   "id": "bfdafee7-11ac-4927-9d44-04f1b0e66986",
   "metadata": {},
   "outputs": [
    {
     "name": "stdout",
     "output_type": "stream",
     "text": [
      "*****\n",
      "****\n",
      "***\n",
      "**\n",
      "*\n"
     ]
    }
   ],
   "source": [
    "#pattern2\n",
    "rows = 5\n",
    "i = rows\n",
    "while i >= 1:\n",
    "    j = 1\n",
    "    while j <= i:\n",
    "        print(\"*\", end=\"\")\n",
    "        j += 1\n",
    "    print(\"\")\n",
    "    i -=1"
   ]
  },
  {
   "cell_type": "code",
   "execution_count": 22,
   "id": "4a720c9f-84eb-4249-8b76-1239347568d8",
   "metadata": {},
   "outputs": [
    {
     "name": "stdout",
     "output_type": "stream",
     "text": [
      "     *\n",
      "    **\n",
      "   ***\n",
      "  ****\n",
      " *****\n"
     ]
    }
   ],
   "source": [
    "#pattern\n",
    "i = 1\n",
    "while i <= 5:\n",
    "    j = 5\n",
    "    while j >= i:\n",
    "        print(\" \", end=\"\")\n",
    "        j -= 1\n",
    "    k = 1\n",
    "    while k <= i:\n",
    "        print(\"*\", end=\"\")\n",
    "        k += 1\n",
    "    print()\n",
    "    i += 1\n"
   ]
  },
  {
   "cell_type": "markdown",
   "id": "956cb638-110b-4243-b93e-90c8af7d90cd",
   "metadata": {},
   "source": [
    "Q7/Ans7"
   ]
  },
  {
   "cell_type": "code",
   "execution_count": 27,
   "id": "69ad9b6b-f13c-4f30-9dfe-3205d2bab66a",
   "metadata": {},
   "outputs": [
    {
     "name": "stdout",
     "output_type": "stream",
     "text": [
      "10\n",
      "9\n",
      "8\n",
      "7\n",
      "6\n",
      "5\n",
      "4\n",
      "3\n",
      "2\n",
      "1\n",
      "0\n"
     ]
    }
   ],
   "source": [
    "i = 0\n",
    "n=10\n",
    "while n <= 10 and n>=0:\n",
    "    print(n)\n",
    "    n = n-1"
   ]
  },
  {
   "cell_type": "markdown",
   "id": "b176e8c2-2d96-4359-8ff8-afb5b0be2028",
   "metadata": {},
   "source": [
    "Q8/Ans"
   ]
  },
  {
   "cell_type": "code",
   "execution_count": null,
   "id": "bf5a9f26-01a9-4e36-8472-a05a0eb37a2a",
   "metadata": {},
   "outputs": [],
   "source": []
  }
 ],
 "metadata": {
  "kernelspec": {
   "display_name": "Python 3 (ipykernel)",
   "language": "python",
   "name": "python3"
  },
  "language_info": {
   "codemirror_mode": {
    "name": "ipython",
    "version": 3
   },
   "file_extension": ".py",
   "mimetype": "text/x-python",
   "name": "python",
   "nbconvert_exporter": "python",
   "pygments_lexer": "ipython3",
   "version": "3.10.8"
  }
 },
 "nbformat": 4,
 "nbformat_minor": 5
}
